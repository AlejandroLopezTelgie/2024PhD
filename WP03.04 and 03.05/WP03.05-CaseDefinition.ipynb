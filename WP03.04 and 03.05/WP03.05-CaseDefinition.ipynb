{
 "cells": [
  {
   "cell_type": "markdown",
   "metadata": {},
   "source": [
    "# ARCHIVE 2024-05-10 as it was transcribed into theis chp 5, step V Spatial resolution feasibility assesmen & EO payload data rate estimate\n",
    "# WP03 Case study - Thesis Ch07 Test Case \n",
    "\n",
    "\n",
    "Goal: Run simulations to assess a FireSat-II like mission over Brazil's Amazonia (Northeast).\n",
    "\n",
    "@AL: create IPO\n",
    "\n",
    "- INPUT\n",
    "-- Orbit (altitude_min &_max, inclination) SSO/ISS\n",
    "\n",
    "## Inputs\n",
    "- Orbits: Sunsynchronous (SSO) and/or Intenational Space Station (ISS) like (i.e. inclination and altitude restricted in the search space for cost-effective access. i.e. rideshare on regular launch orbits and no requirement for propulsion) \n",
    "- Altitudes\n",
    "  - $h_{SSO,max}=600 km$ Altitude is constrained to allow for passive deorbit within 25 years @AL add cite\n",
    "  - $h_{SSO,min}=450 km$ Lower altitude detected for SSO-like orbits in Lopez et al 2024 fig 9 (See fig Below)\n",
    "- Inclination: for SSO is a function of altitude.\n",
    "$$\n",
    "\\cos i \\approx -\\frac{2\\rho}{3 J_2 R_\\text{E}^2 \\sqrt{\\mu_E}} a^{7/2} [-]\n",
    "$$\n",
    "where (source of information, Space Mission Engineering: the New SMAD 2015): \n",
    "\n",
    "\n",
    "- $\\rho[\\frac{rad}{s}]$ represents the rate of precession $\\frac{d\\Omega}{dt}$ of a satellite orbiting the Earth. In the case for a SSO Orbit it must match the mean motion of the Earth around the Sun, which is 360° per sidereal year, $\\frac{2\\pi}{31558150 [s]} = 1.99098657785×10^{−7} [\\frac{rad}{s}]$,\n",
    "- $J_{2} = 1.0826359×10^{−3} [-]$ is the coefficient for the second zonal term related to the oblateness of the Earth,\n",
    "- $R_E = 6378.1366 km$ is the mean radius of the Earth,\n",
    "- $\\mu_E = 398600.4356 [\\frac{km^3}{s^2}]$ Earth gravitational parameter,\n",
    "- $a=R_E+h [km]$ is the semi-major axis,\n",
    "- $i [°]$ is the inclination of the orbit to the equator.\n",
    "\n",
    "Thus, for this scenario, we get the inclination of SSO to:\n",
    "- $97.87[°]$ for $h_{SSO,max}$ \n",
    "- $97.21[°]$ for $h_{SSO,min}$.\n",
    "\n",
    "@AL: add citation for operational altitudes ISS\n",
    "\n",
    "-  For ISS at an inclination of 51.64 [°] \n",
    "   - $h_{ISS,max}=460 [km]$ Maximum altitude for ISS-like satellites (likely deployed by the launch vehicle at this higher altitude as the ones deploy from ISS are deployed towards earth i.e. lower).\n",
    "   - $h_{ISS,min}=275 [km]$ Note that at this altitude re-entry will happen in a matter of months\n",
    "   - $h_{ISS,sweetspot}=350 [km]$ Note that ISS will deploy towards Earth (i.e. below the station to avoid debris collision risk), thus this is feasible only if deployed once the station is above. "
   ]
  },
  {
   "cell_type": "markdown",
   "metadata": {},
   "source": [
    "Fig. XX Altitude of CubeSat vs Inclination\n",
    "\n",
    "![Altitude of CubeSast as of Lopez et al 2024](Figs/Fig%2009%20Lopez%20et%20al%202024.png)\n",
    "\n",
    "Source: Lopez et al 2024 IEEE LATAM (under production for publication)"
   ]
  },
  {
   "cell_type": "markdown",
   "metadata": {},
   "source": [
    "## Area of Interest (AoI) @AL rewrite \n",
    "The AoI for this study comes from the guidelines given by the Classic FireSat Space Mission, which aims to detect, identify, monitor and report fires in Brazilian territory in almost real-time and at low cost. As part of the INPE Burning and Forest Fire Monitoring Program (INPE, 2023), there is a detailed study of Fire Risk. This study takes into account aspects such as precipitation, effects of the type of vegetation and the natural cycle of its defoliation, the maximum temperature and minimum relative humidity of the daily air. In order to define the areas of interes, the same methodology used by (Generoso et al., 2021) is applied. Four pictures are selected, each one per season and areas are compared.\n",
    "\n",
    "\n",
    "\n",
    "![Area of Interest](Figs/Area%20of%20Interest.png)\n",
    "\n",
    "Source: Author\n",
    "\n",
    "Based on the observed data, it was decided to monitor the Northeast region of Brazil, specifically the federal states of Maranhão, Piauí, Ceará, Bahía, Sergipe, Pernambuco, Paraíba, Río Grande do Norte, Alagoas and Espírito Santo; where critical risks remain constant in part of the territory throughout the year. In addition, it is a region made up of several biomes such as the caatinga (predominantly), cerrado, Atlantic forest and the Amazon forest.\n",
    "\n",
    "\n",
    "# Ground stations (GS)\n",
    "\n",
    "- Ciuaba (Brazil)\n",
    "    - Latitude: -23.2°\n",
    "    - Longitude: -45.87°\n",
    "- Punta Arenas (Chile)\n",
    "    - Latitude: -52.93°\n",
    "    - Longitude: -70.85°\n",
    "\n",
    "- Svalbard (Norway)\n",
    "    - Latitude: 78.23°\n",
    "    - Longitude: 15.38°\n",
    "\n"
   ]
  },
  {
   "cell_type": "markdown",
   "metadata": {},
   "source": [
    "# ARCHIVED - moved to WP04.03 in WP04 repository\n",
    "## INPUT - Payload Sizing Parameters \n",
    "\n",
    "Payload sizing is part of WP04\n",
    "\n",
    "### Data rate generation\n",
    "The generated datarate due to the images acquired is calculated as such: \n",
    "\n",
    "$$ DR_{gen}= \\frac{S_w V_g}{R_{GSD}}b \\; [\\frac{bit}{s}] $$\n",
    "\n",
    "It is dependent of the Swadt width, the distance to the sampling (i.e. orbital altitude h or H, the resolution in bits of te sensor and the ground speed $V_g$ with respect to Earth)\n",
    "\n",
    "Where: \n",
    "- $S_w [km]$: Swadth width\n",
    "- $b [bit/s]$ : bit rate. \n",
    "- $R_{GSD} [m]$ Ground Sample Distance, obtained in the payload sizing WP (ref input 3 to 5 [m])\n",
    "- $V_g [km/s]$ Ground spreed, estimated as follows, from the circular orbit:\n",
    "\n",
    "$$ V_{g}= \\sqrt{\\mu_E\\frac{1}{R_{E}+H}} \\; [\\frac{m}{s}]$$\n",
    "\n",
    "Where: \n",
    "\n",
    "- $\\mu_E$ Earth's gravitational constant\n",
    "- $R_{E}$ Earth radius [m]\n",
    "- $H$ Satellite orbit's altitude \n",
    "\n",
    "## Ouput \n",
    "\n",
    "### Data generated by payload\n",
    "### Data downloaded to ground station\n",
    "\n",
    "\n",
    "In order to quantify the amount of generated data, the previously calculated generated datarate $D_{rategenerated}$ and the averaged contact time are used as such: \n",
    "\n",
    "$$ D_{gen}= D_{rategenerated}*t_{AOI} \\; [Mbit] $$\n",
    "\n",
    "\n",
    "\n",
    "In order to quantify the amount of downloaded data, the download datarate and the average contact time to GS are used, where: \n",
    "$$ D_{down}= D_{ratedown} *t_{Contact time}  \\; [Mbit]$$\n",
    "\n",
    "\n",
    "\n",
    "both times, $t_{AOI}$ and $t_{contacttime}$ are calculated up next using as inputs the simulation results from FreeFlyer. The results are extracted for both the total constellation and per satellite individually.\n",
    "\n",
    "### Per satellite TBC\n"
   ]
  },
  {
   "cell_type": "markdown",
   "metadata": {},
   "source": [
    "# References\n",
    "\n",
    "- Lopez et al 2024 - IEEE Latam Article\n",
    "- Generoso Lima, E., Tarifa, M., Dias, R., Robson Cutolo, A., Kukulka de Albuquerque, P., & Gomes dos Santos, W. (2021). Conceptual project of the classic FireSat mission for the monitoring of forest fires in the northeast of Brazil using the space mission analysis and design (SMAD) process. Proceedings of the 26th International Congress of Mechanical Engineering.\n",
    "- Wertz, J. R., Everett, D. F., & Puschell, J. J. (2011). Space mission engineering : the new SMAD. Microcosm Press.\n",
    "\n"
   ]
  },
  {
   "cell_type": "markdown",
   "metadata": {},
   "source": [
    "# Data conditioning \n",
    "\n",
    "Orbital simulation (FreeFlyer) contact times, time over AoI, and shadow times\n",
    "\n",
    "Done in WP04\n"
   ]
  },
  {
   "cell_type": "markdown",
   "metadata": {},
   "source": [
    "![Process flow](Figs/WP03%20Data%20flow%20process.png)"
   ]
  },
  {
   "cell_type": "markdown",
   "metadata": {},
   "source": [
    "Process schematic, WP03 rev 2024-04-16 https://udeconce-my.sharepoint.com/:u:/r/personal/alelopez_udec_cl/Documents/2_PhD/2.7_PhD.Thesis/WP05%20Thesis%20report/Figs%20tables%20and%20plots/PhD%20IPO%20Diagrams%20for%20process.vsdx?d=w8fd2592e51e44777908662660724fead&csf=1&web=1&e=rIePPm"
   ]
  }
 ],
 "metadata": {
  "kernelspec": {
   "display_name": "base",
   "language": "python",
   "name": "python3"
  },
  "language_info": {
   "name": "python",
   "version": "3.10.4"
  }
 },
 "nbformat": 4,
 "nbformat_minor": 2
}
