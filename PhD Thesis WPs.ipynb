{
 "cells": [
  {
   "cell_type": "markdown",
   "metadata": {},
   "source": []
  },
  {
   "cell_type": "markdown",
   "metadata": {},
   "source": [
    "# PhD Thesis Work Packages (WP)\n",
    "\n",
    "The following figure provides and overview of the different Work Packages implemented in the thesis. Note different work packages have been implemented in different tools.\n",
    "\n",
    "![PhD Thesis WP](PhDThesisWPs.png)\n",
    "\n",
    "\n",
    "## PhD Thesis Work Package (WP) Description & Status"
   ]
  },
  {
   "cell_type": "markdown",
   "metadata": {},
   "source": [
    "### WP01 -  Article submission and acceptance to Qualis B1 journal DONE\n",
    "\n",
    "Lopez-Telgie et al. 2024 *An Automated Data-Gathering Tool for Earth Observation CubeSats Classification*\n",
    "\n",
    "Tool code in https://github.com/AlejandroLopezTelgie/IEEE-LA-CubeSat-database"
   ]
  },
  {
   "cell_type": "markdown",
   "metadata": {},
   "source": [
    "### WP02 - Identify 3 CubeSat design practices and philosophies for achieving cost-effective space missions\n",
    "\n",
    "This WP is written in Thesis chapter 03.01 CubeSat classification over the past two decades\n",
    "\n",
    "-  WP02.01 Classify previous CubeSat missions in terms of orbits and bus types\n",
    "   - DONE in article (WP01) Lopez-Telgie et al. (2024)\n",
    "   - They go to ISS and SSO like orbits, with 3U being the main one (driven by Spire and Planet CubeSats)\n",
    "   - LCC for Planet and spire was estimated, provides a cap for LCC of other mission in WP03.04\n",
    "\n",
    "\n",
    "- WP02.02 Consolidate SE envelopes for COTS CubeSat bus from 5 vendor specifications of platforms\n",
    "   - DONE in Valispace Model https://udec-chile.valispace.com/project/116/ ** Password protected **\n",
    "\n",
    "- WP02.03 Interview 5 CubeSat developers regarding philosophies and practices for cost-effective mission development\n",
    "   - DONE in (WP05) Thesis report Ch03"
   ]
  },
  {
   "cell_type": "markdown",
   "metadata": {},
   "source": [
    "### WP03 - Develop a test case of a CubeSat based DSM architecture for FireSat II\n",
    "\n",
    "This WP is written into thesis Chapter \n",
    "\n",
    "- TO DO WP03.01 CML1: Extract requirement diagram for CubeSat DSM from FireSat II [Source: New SMAD & Architecting spacecraft with SYsML]\n",
    "- TO DO WP03.02 CML2: Feasibility assessment for Multi Spectral instrument that has spatial and spectral resolution that fits within a CubeSat below 12 units\n",
    "- TO DO WP03.03 CML3: Map a subset of FireSat II mission requirements into CubeSat a requirement diagram (SysML) or equivalent/analogous tool\n",
    "- WP03.04 CML3: Estimate a system lifecycle RoM cost for the space segment of a CubeSat based DSM providing data over the relevant period (considering different deployment strategies and redundancies to achieve set reliability)\n",
    "    - This is partially done as a LCC cost cap from IEEE LA Lopez-Telgie et al. (2022) was obtianed \n",
    "    - Bottoms up approach takes the following metric\n",
    "\n",
    "$$\n",
    "C_{LCC}\\approx \\sum C_{manpower,i}+C_{HW}\\times N_{units}+C_{launch}+\n",
    "$$\n",
    "With the labour cost being a function of number of people, times salary at country, times timpe per phase.\n",
    "- $C_{manpower,i}$ being the cost per phase aproximated as the time in the phase, times the number of staff (people) involved and a salary (dependent on location) $\\approx t_i \\times N_{staff} \\times S_{location}$ \n",
    "$$\n",
    "C_{manpower}\\approx \\sum C_{HH} N_{staff} S_{staff,country}\n",
    "$$\n",
    "\n",
    "Salary by country, based on interviews, is estimated as:\n",
    "- Chile, project engineer 2500 USD/month [Suchai Inteview]\n",
    "- US 90.000 USD/year=7.500 USD/month [https://www.linkedin.com/pulse/top-10-highest-paying-countries-engineers-alp-consulting-ltd--lrojc/]\n",
    "- Italy 66109 USD/year = 5510 USD/month [LinkedIN]\n",
    "- Germany 65000 USD/year = 5.417 USD/month [LinkedIN]\n",
    "- Brazil 9000 reais ~ 1800 USD per month (Sao Paulo area) [https://www.glassdoor.com/Salaries/sao-paulo-engineer-salary-SRCH_IL.0,9_IM1009_KO10,18.htm]\n",
    "\n",
    "\n",
    "Cubesat bus cost is estimated as $C_{HW}=100 [kUSD]$ per unit (as a rule of thumb value which has been seen in the interviews and literature)\n",
    "\n",
    "Launch cost is a \"commodity\" and we used 50-100 kUSD per unit from brokers and for bigger deployments Space-X rideshare (at 50 kg for 300 kUSD) can be interesting. Yet at the start, i.e. the first prototypes should look for the fastest time to orbit\n",
    "- $C_{launch}\n",
    "\n",
    "\n",
    "- WP03.05 CML3: Assess reliability vs cost for different architectures (and deployment strategies)\n",
    "\n",
    "DONE in different code"
   ]
  },
  {
   "cell_type": "markdown",
   "metadata": {},
   "source": [
    "### WP04 Integrate parametric sizing RoM models for Earth Observation (optical) payloads in relevant orbits for CubeSat missions.\n",
    "- WP04.01 Implement spatial resolution metrics, and coverage: What can we see?\n",
    "- WP04.02 Assess Link budget: Can we download the data generated (in time)?\n",
    "- WP04.03 Estimate the data generated by Payload\n",
    "- WP04.04 Estimating the power budget"
   ]
  },
  {
   "cell_type": "markdown",
   "metadata": {},
   "source": [
    "### WP05 Thesis report writing\n",
    "\n",
    "DOING"
   ]
  },
  {
   "cell_type": "markdown",
   "metadata": {},
   "source": [
    "### WP06 Algorithm/Heuristic update"
   ]
  }
 ],
 "metadata": {
  "language_info": {
   "name": "python"
  }
 },
 "nbformat": 4,
 "nbformat_minor": 2
}
