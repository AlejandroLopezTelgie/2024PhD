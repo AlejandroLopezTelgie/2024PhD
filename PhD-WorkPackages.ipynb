{
 "cells": [
  {
   "cell_type": "markdown",
   "metadata": {},
   "source": [
    "# PhD Thesis Work Package (WP) Description\n",
    "\n",
    "## WP01 -  Article submission and acceptance to Qualis B1 journal\n",
    "## WP02 - Identify 3 CubeSat design practices and philosophies for achieving cost-effective space missions\n",
    "###  WP02.01 Classify previous CubeSat missions in terms of orbits and bus types\n",
    "### WP02.02 Consolidate SE envelopes for COTS CubeSat bus from 5 vendor specifications of platforms\n",
    "### WP02.03 Interview 5 CubeSat developers regarding philosophies and practices for cost-effective mission development\n",
    "\n",
    "## WP03 - Develop a test case of a CubeSat based DSM architecture for FireSat II\n",
    "### WP03.01 CML1: Extract requirement diagram for CubeSat DSM from FireSat II [Source: New SMAD & Architecting spacecraft with SYsML]\n",
    "### WP03.02 CML 2: Feasibility assessment for Multi Spectral instrument that has spatial and spectral resolution that fits within a CubeSat below 12 units\n",
    "### WP03.03 CML3: Map a subset of FireSat II mission requirements into CubeSat a requirement diagram (SysML) or equivalent/analogous tool\n",
    "### WP03.04 CML3: Estimate a system lifecycle RoM cost for the space segment of a CubeSat based DSM providing data over the relevant period (considering different deployment strategies and redundancies to achieve set reliability)\n",
    "### WP03.05 CML3: Assess reliability vs cost for different architectures (and deployment strategies)\n",
    "\n",
    "## WP04 Integrate parametric sizing RoM models for Earth Observation (optical) payloads in relevant orbits for CubeSat missions.\n",
    "### WP04.01 Implement spatial resolution metrics, and coverage: What can we see?\n",
    "### WP04.02 Assess Link budget: Can we download the data generated (in time)?\n",
    "### WP04.03 Estimate the data generated and power needs of the Payload\n",
    "## WP06 Algorithm/Heuristic update\n",
    "## WP05 Thesis report writing\n",
    "\n"
   ]
  }
 ],
 "metadata": {
  "language_info": {
   "name": "python"
  }
 },
 "nbformat": 4,
 "nbformat_minor": 2
}
